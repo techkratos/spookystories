{
  "nbformat": 4,
  "nbformat_minor": 0,
  "metadata": {
    "colab": {
      "name": "horror_story_classifier.ipynb",
      "provenance": [],
      "collapsed_sections": [],
      "authorship_tag": "ABX9TyMTefI20ECe+bxh+glIJ4Hm",
      "include_colab_link": true
    },
    "kernelspec": {
      "name": "python3",
      "display_name": "Python 3"
    }
  },
  "cells": [
    {
      "cell_type": "markdown",
      "metadata": {
        "id": "view-in-github",
        "colab_type": "text"
      },
      "source": [
        "<a href=\"https://colab.research.google.com/github/techkratos/spookystories/blob/main/ai/horror_story_classifier.ipynb\" target=\"_parent\"><img src=\"https://colab.research.google.com/assets/colab-badge.svg\" alt=\"Open In Colab\"/></a>"
      ]
    },
    {
      "cell_type": "markdown",
      "metadata": {
        "id": "t12S_ychsfBu"
      },
      "source": [
        "# Importing libraries"
      ]
    },
    {
      "cell_type": "code",
      "metadata": {
        "id": "8jgyTcHsZeT-",
        "outputId": "adb701d3-6cd1-411d-91e0-83c8493d81bf",
        "colab": {
          "base_uri": "https://localhost:8080/"
        }
      },
      "source": [
        "import praw\n",
        "import pandas as pd\n",
        "import numpy as np\n",
        "from sklearn.feature_extraction.text import CountVectorizer,TfidfTransformer,TfidfVectorizer \n",
        "from sklearn.naive_bayes import MultinomialNB\n",
        "from sklearn.linear_model import LinearRegression\n",
        "from sklearn.pipeline import Pipeline\n",
        "from nltk.corpus import stopwords\n",
        "from nltk.stem import PorterStemmer\n",
        "from sklearn.feature_selection import SelectKBest, chi2\n",
        "from sklearn.ensemble import RandomForestClassifier\n",
        "import nltk\n",
        "import re\n",
        "nltk.download(\"stopwords\")"
      ],
      "execution_count": 250,
      "outputs": [
        {
          "output_type": "stream",
          "text": [
            "[nltk_data] Downloading package stopwords to /root/nltk_data...\n",
            "[nltk_data]   Package stopwords is already up-to-date!\n"
          ],
          "name": "stdout"
        },
        {
          "output_type": "execute_result",
          "data": {
            "text/plain": [
              "True"
            ]
          },
          "metadata": {
            "tags": []
          },
          "execution_count": 250
        }
      ]
    },
    {
      "cell_type": "markdown",
      "metadata": {
        "id": "YHpJx8XdqMWo"
      },
      "source": [
        "# Data scraping and cleaning from the subreddits"
      ]
    },
    {
      "cell_type": "code",
      "metadata": {
        "id": "bNmEJcgTcHIZ"
      },
      "source": [
        "#initializing reddit parser using praw\n",
        "reddit = praw.Reddit(client_id=\"Ycq9VPJclmgRPw\",     \n",
        "                     client_secret=\"mUDxzEkq2GAKo6l5RqNNIG1eWW_0Tw\",  \n",
        "                     user_agent=\"nosleep-scraper\",)\n",
        "\n",
        "#list of subreddits that we parse through\n",
        "list_of_subreddits = [ \"nosleep\", \"poetry\", \"funnystories\", \"scifiwriting\" ]"
      ],
      "execution_count": 240,
      "outputs": []
    },
    {
      "cell_type": "code",
      "metadata": {
        "id": "yoCOr4OmW9N7",
        "outputId": "254e86e4-0323-47cd-b224-b2572256ebc3",
        "colab": {
          "base_uri": "https://localhost:8080/"
        }
      },
      "source": [
        "stories_per_subreddit = 100\n",
        "\n",
        "# Iterating through each subreddit and picking up top 100 stories from that subreddit\n",
        "stories = []\n",
        "for subreddit in list_of_subreddits:\n",
        "  submissions = reddit.subreddit(subreddit).top(limit=stories_per_subreddit)\n",
        "  for submission in submissions:\n",
        "    story = [submission.selftext,submission.score]\n",
        "    if (subreddit == \"nosleep\"):\n",
        "      story.append(1)\n",
        "    elif (subreddit == \"poetry\"):\n",
        "      story.append(2)\n",
        "    elif (subreddit == \"funnystories\"):\n",
        "      story.append(3)\n",
        "    else:\n",
        "      story.append(4)\n",
        "    stories.append(story)\n",
        "\n",
        "# verifying iteration\n",
        "len(stories)"
      ],
      "execution_count": 241,
      "outputs": [
        {
          "output_type": "execute_result",
          "data": {
            "text/plain": [
              "400"
            ]
          },
          "metadata": {
            "tags": []
          },
          "execution_count": 241
        }
      ]
    },
    {
      "cell_type": "code",
      "metadata": {
        "id": "Ie4fWDaeeU9S",
        "outputId": "af54fa29-89b4-4bdd-e6f1-6d585fe87baf",
        "colab": {
          "base_uri": "https://localhost:8080/",
          "height": 202
        }
      },
      "source": [
        "#Creating a dataframe of the stories.\n",
        "df = pd.DataFrame(stories,columns = [\"story\",\"score\",\"class\"])\n",
        "df.head()"
      ],
      "execution_count": 243,
      "outputs": [
        {
          "output_type": "execute_result",
          "data": {
            "text/html": [
              "<div>\n",
              "<style scoped>\n",
              "    .dataframe tbody tr th:only-of-type {\n",
              "        vertical-align: middle;\n",
              "    }\n",
              "\n",
              "    .dataframe tbody tr th {\n",
              "        vertical-align: top;\n",
              "    }\n",
              "\n",
              "    .dataframe thead th {\n",
              "        text-align: right;\n",
              "    }\n",
              "</style>\n",
              "<table border=\"1\" class=\"dataframe\">\n",
              "  <thead>\n",
              "    <tr style=\"text-align: right;\">\n",
              "      <th></th>\n",
              "      <th>story</th>\n",
              "      <th>score</th>\n",
              "      <th>class</th>\n",
              "    </tr>\n",
              "  </thead>\n",
              "  <tbody>\n",
              "    <tr>\n",
              "      <th>0</th>\n",
              "      <td>His Tinder profile said he was 45, but he look...</td>\n",
              "      <td>43647</td>\n",
              "      <td>1</td>\n",
              "    </tr>\n",
              "    <tr>\n",
              "      <th>1</th>\n",
              "      <td>Every night, no matter the weather, something ...</td>\n",
              "      <td>28828</td>\n",
              "      <td>1</td>\n",
              "    </tr>\n",
              "    <tr>\n",
              "      <th>2</th>\n",
              "      <td>The poster read, “Happiness! Sold in Glass Jar...</td>\n",
              "      <td>26919</td>\n",
              "      <td>1</td>\n",
              "    </tr>\n",
              "    <tr>\n",
              "      <th>3</th>\n",
              "      <td>I don't know when you're going to read this, b...</td>\n",
              "      <td>23260</td>\n",
              "      <td>1</td>\n",
              "    </tr>\n",
              "    <tr>\n",
              "      <th>4</th>\n",
              "      <td>\\nI moved in with my boyfriend yesterday. We’v...</td>\n",
              "      <td>20653</td>\n",
              "      <td>1</td>\n",
              "    </tr>\n",
              "  </tbody>\n",
              "</table>\n",
              "</div>"
            ],
            "text/plain": [
              "                                               story  score  class\n",
              "0  His Tinder profile said he was 45, but he look...  43647      1\n",
              "1  Every night, no matter the weather, something ...  28828      1\n",
              "2  The poster read, “Happiness! Sold in Glass Jar...  26919      1\n",
              "3  I don't know when you're going to read this, b...  23260      1\n",
              "4  \\nI moved in with my boyfriend yesterday. We’v...  20653      1"
            ]
          },
          "metadata": {
            "tags": []
          },
          "execution_count": 243
        }
      ]
    },
    {
      "cell_type": "markdown",
      "metadata": {
        "id": "xn94gj-h7qDs"
      },
      "source": [
        "# Text preprocessing"
      ]
    },
    {
      "cell_type": "code",
      "metadata": {
        "id": "3rBvXW9I7sbg"
      },
      "source": [
        "def text_process(df):\n",
        "  stemmer = PorterStemmer()\n",
        "  words = stopwords.words(\"english\")\n",
        "  df['cleaned_story'] = df['story'].apply(lambda x: \" \".join([stemmer.stem(i) for i in re.sub(\"[^a-zA-Z]\", \" \", x).split() if i not in words]).lower())\n",
        "  return df"
      ],
      "execution_count": 287,
      "outputs": []
    },
    {
      "cell_type": "code",
      "metadata": {
        "id": "_tKZXBuXEHaC"
      },
      "source": [
        "df = text_process(df)"
      ],
      "execution_count": 289,
      "outputs": []
    },
    {
      "cell_type": "code",
      "metadata": {
        "id": "li_4wZvI80aK",
        "outputId": "36542949-b0bf-400b-9b50-87ec36b70eb3",
        "colab": {
          "base_uri": "https://localhost:8080/"
        }
      },
      "source": [
        "vectorizer = TfidfVectorizer(min_df= 3, stop_words=\"english\", sublinear_tf=True, norm='l2', ngram_range=(1, 2))\n",
        "final_features = vectorizer.fit_transform(df['cleaned_story']).toarray()\n",
        "final_features.shape"
      ],
      "execution_count": 290,
      "outputs": [
        {
          "output_type": "execute_result",
          "data": {
            "text/plain": [
              "(400, 7556)"
            ]
          },
          "metadata": {
            "tags": []
          },
          "execution_count": 290
        }
      ]
    },
    {
      "cell_type": "markdown",
      "metadata": {
        "id": "Mn9rHczdsIFE"
      },
      "source": [
        "# Model building"
      ]
    },
    {
      "cell_type": "code",
      "metadata": {
        "id": "gzFSbocWfc2Z"
      },
      "source": [
        "#seperating test train\n",
        "msk = np.random.rand(len(df)) < 0.8\n",
        "df_train = df[msk]\n",
        "df_test = df[~msk]\n",
        "\n",
        "X_train_class = df_train[\"cleaned_story\"]\n",
        "Y_train_class = df_train[\"class\"]\n",
        "X_test_class = df_test[\"cleaned_story\"]\n",
        "Y_test_class = df_test[\"class\"]\n",
        "\n",
        "X_train_score = X_train_class\n",
        "X_test_score = X_test_class\n",
        "Y_train_score = df_train[\"score\"]\n",
        "Y_test_score = df_test[\"score\"] \n"
      ],
      "execution_count": 291,
      "outputs": []
    },
    {
      "cell_type": "code",
      "metadata": {
        "id": "cDSx7ceugICK"
      },
      "source": [
        "#Making pipelines for both the story classifier and the score regressor\n",
        "text_clf_classifier = Pipeline([('vect', vectorizer),('chi',  SelectKBest(chi2, k=1200)),('clf', RandomForestClassifier()),])\n",
        "score_clf_regressor = Pipeline([('vect',vectorizer),('clf', LinearRegression()),])"
      ],
      "execution_count": 292,
      "outputs": []
    },
    {
      "cell_type": "code",
      "metadata": {
        "id": "CoCBImovikgE"
      },
      "source": [
        "classifier_model = text_clf_classifier.fit(X_train_class,Y_train_class)\n",
        "regression_model = score_clf_regressor.fit(X_train_score, Y_train_score)"
      ],
      "execution_count": 293,
      "outputs": []
    },
    {
      "cell_type": "code",
      "metadata": {
        "id": "MUqvXXGKq2eC",
        "outputId": "270cf10c-3c20-4813-8c6c-39f9575c05ef",
        "colab": {
          "base_uri": "https://localhost:8080/"
        }
      },
      "source": [
        "np.mean(classifier_model.predict(X_test_class)== Y_test_class)"
      ],
      "execution_count": 294,
      "outputs": [
        {
          "output_type": "execute_result",
          "data": {
            "text/plain": [
              "0.8076923076923077"
            ]
          },
          "metadata": {
            "tags": []
          },
          "execution_count": 294
        }
      ]
    },
    {
      "cell_type": "code",
      "metadata": {
        "id": "1jl4f3Krnzbx",
        "outputId": "88a64bdb-7f26-4d68-85dd-86308ee4f156",
        "colab": {
          "base_uri": "https://localhost:8080/"
        }
      },
      "source": [
        "regression_model.score(X_test_score,Y_test_score)"
      ],
      "execution_count": 295,
      "outputs": [
        {
          "output_type": "execute_result",
          "data": {
            "text/plain": [
              "0.8232507477142748"
            ]
          },
          "metadata": {
            "tags": []
          },
          "execution_count": 295
        }
      ]
    },
    {
      "cell_type": "code",
      "metadata": {
        "id": "OiCJReSSvhSh"
      },
      "source": [
        "def prediction(story):\n",
        "  prediction_df = pd.DataFrame([[story,0,0]],columns = [\"story\",\"classs\",\"score\"])\n",
        "  prediction_df = text_process(prediction_df)\n",
        "  classifier_prediction = classifier_model.predict(prediction_df[\"cleaned_story\"])\n",
        "  regressor_prediction  = regression_model.predict(prediction_df[\"cleaned_story\"])\n",
        "  return classifier_prediction[0],regressor_prediction[0]"
      ],
      "execution_count": 313,
      "outputs": []
    },
    {
      "cell_type": "code",
      "metadata": {
        "id": "jJ4TXZeMwJuU",
        "outputId": "0f900c9b-62c8-484b-a318-18fe9efa8bb3",
        "colab": {
          "base_uri": "https://localhost:8080/"
        }
      },
      "source": [
        "prediction(\"I fucking hate Halloween. It’s when all the pricks come out to play; full moon and all that. I feel a special kind of abhorrence toward All Hallow’s Eve that has nothing to do with the actual holiday itself. You see, each year on October 31st, I receive a disturbingly unsettling phone call. I don’t know who it’s from nor do I have any indication as to why they are doing this to me. I’ve tried everything I could to find out - I’ve gone to the police, I’ve gone to my phone network company, hell, I even tried to hire a hacker. Nothing would work. I change my number yearly just before October but alas, when October 31st rolls around, I get the phone call.It all started about three years ago, back when I used to actually celebrate Halloween. I was in a pub with a few mates from work when my phone rang, I fumbled for it in my pocket to see who it was. It was an ‘Unknown Number’ so I hung up the call - thinking it was a crank call. It was Halloween after all. But it just wouldn’t stop. I could feel my phone vibrating incessantly in my pocket. Eventually, I excused myself and went outside to answer it, about to tell whoever it was to fuck off.“Hello?”“Is that...Matthew?”The voice was soft, mellow and velvety fucking smooth but it sent a shiver down my spine. I couldn’t figure out whether it was a man or woman - as weird as this sounds, it kind of sounded like both. They spoke so slowly, like they were choosing each and every syllable with extreme care. I felt the hairs on the back of my neck stand up.“Yes, it’s Matthew. Who am I speaking to?”“Someone who has been watching you for a long while, Matthew.”“Who the fuck is this?”“Who we are bears no meaning. It’s what we can do that should be important to you Matthew.”I hung up the phone. I didn’t realise then what a mistake that was going to be.When I got home that night, I found my cat Biggles dead on my front porch. His insides were spooned out; he was nothing but a meat suit. A note was stapled crudely to his matted fur.October 31st. It read.The following year, I had almost forgotten about it. On October 31st, I was at a house party when my phone rang at exactly 10.55pm. It was an unknown number again, I frowned feeling my stomach tie in multiple knots. It couldn’t be though, I had changed my number since then.Hesitantly, I answered.“Hello?”“Is that...Matthew?”The voice was different this time, more guttural but high pitched at the same time. It’s how I’d always thought a person who was being choked would sound like. Gasping for breath.“Please stop calling me.”“We have such wonderful things to show you Matthew.”“Show me what?”This thing, it laughed then. It was the most chilling laugh I’d ever heard in my life. It was a dry sort of cackle, no emotion behind it.“The beautiful, visceral and stretchy insides of people. Have you ever seen the inside of a person Matthew? It’s glorious. We can show you how.”“Fuck you.”I hung up.When I got home that night, my mother called me, she was hysterical. My grandad was dead. Murdered apparently - found all splayed and bloody. His insides were all fished out, there was nothing left. Just an empty sack of skin. My heart sank when she told me what was pinned to his chest. It was a note that read October 31st.The following year, they took my mum. She was found strung up in her bathroom; looked like a suicide. Except she didn’t have any insides, all her organs and flesh were gone. She was split open from throat to navel and hung out to dry. There wasn’t even any blood left by the time she was found. I started to think that they just wanted to torture me; kill my family; murder my friends. Sometimes evil motherfuckers don’t need a reason to be evil motherfuckers. I tried to kill myself after my mum died. It was the only way I could get myself out of this but I couldn’t do it. I just couldn’t go through with it.Whoever this was, they were not human. I knew that much. I felt hopeless, lost and scared shitless.It’s October 31st today and my phone is already ringing. I feel the familiar fear creep up on me like a slithering serpent that’s about to strike and fill me with poison. Only what was waiting for me on the other end of that phone was something so much more deadly, much more terrifying. I stare at my phone for a long time before I finally answer.“Hello?”“Is that...Matthew?”“Fuck you, you fucking know it’s Matthew.“Will you let us see what’s inside you Matthew? We need your meat suit.”“You’ve already taken everyone I care about. You can go fuck yourself now.”“Not...everyone Matthew. Did you know you have a baby?”My heart sank. Fuck, Natalie. We broke up about a year ago but I didn’t know she was pregnant.“Yes Matthew. You have a scrumptious baby, so young, so...ripe. The flesh so smooth.”I’m crying, sobbing really.“Give us your flesh and she will not have to suffer.”They’ve never asked me this before. I knew I had no choice. I couldn’t let the same thing happen to a small, innocent baby.“Okay.”The line went dead.Someone just slipped a note under my door. Along with a blood stained, mauve coloured blade.\")"
      ],
      "execution_count": 314,
      "outputs": [
        {
          "output_type": "execute_result",
          "data": {
            "text/plain": [
              "(1, 11698.69940436905)"
            ]
          },
          "metadata": {
            "tags": []
          },
          "execution_count": 314
        }
      ]
    },
    {
      "cell_type": "code",
      "metadata": {
        "id": "WpI1-S9AxBwM"
      },
      "source": [
        ""
      ],
      "execution_count": null,
      "outputs": []
    }
  ]
}